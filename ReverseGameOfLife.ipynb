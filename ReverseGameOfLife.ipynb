{
  "nbformat": 4,
  "nbformat_minor": 0,
  "metadata": {
    "colab": {
      "name": "ReverseGameOfLife.ipynb",
      "provenance": [],
      "collapsed_sections": [],
      "authorship_tag": "ABX9TyPp9VymnCoFelmh1h20Q6ug"
    },
    "kernelspec": {
      "name": "python3",
      "display_name": "Python 3"
    }
  },
  "cells": [
    {
      "cell_type": "markdown",
      "metadata": {
        "id": "XTp0iO2j_8Ao",
        "colab_type": "text"
      },
      "source": [
        "#Game of Life"
      ]
    },
    {
      "cell_type": "code",
      "metadata": {
        "id": "D_bspxDDUKlW",
        "colab_type": "code",
        "colab": {
          "base_uri": "https://localhost:8080/",
          "height": 173
        },
        "outputId": "4b02fee9-1808-4218-8db4-488deb57c9bc"
      },
      "source": [
        "!pip install celluloid\n"
      ],
      "execution_count": 7,
      "outputs": [
        {
          "output_type": "stream",
          "text": [
            "Requirement already satisfied: celluloid in /usr/local/lib/python3.6/dist-packages (0.2.0)\n",
            "Requirement already satisfied: matplotlib in /usr/local/lib/python3.6/dist-packages (from celluloid) (3.2.2)\n",
            "Requirement already satisfied: cycler>=0.10 in /usr/local/lib/python3.6/dist-packages (from matplotlib->celluloid) (0.10.0)\n",
            "Requirement already satisfied: pyparsing!=2.0.4,!=2.1.2,!=2.1.6,>=2.0.1 in /usr/local/lib/python3.6/dist-packages (from matplotlib->celluloid) (2.4.7)\n",
            "Requirement already satisfied: numpy>=1.11 in /usr/local/lib/python3.6/dist-packages (from matplotlib->celluloid) (1.18.5)\n",
            "Requirement already satisfied: kiwisolver>=1.0.1 in /usr/local/lib/python3.6/dist-packages (from matplotlib->celluloid) (1.2.0)\n",
            "Requirement already satisfied: python-dateutil>=2.1 in /usr/local/lib/python3.6/dist-packages (from matplotlib->celluloid) (2.8.1)\n",
            "Requirement already satisfied: six in /usr/local/lib/python3.6/dist-packages (from cycler>=0.10->matplotlib->celluloid) (1.15.0)\n"
          ],
          "name": "stdout"
        }
      ]
    },
    {
      "cell_type": "code",
      "metadata": {
        "id": "ChdtID5fpVRE",
        "colab_type": "code",
        "colab": {
          "resources": {
            "http://localhost:8080/nbextensions/google.colab/files.js": {
              "data": "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",
              "ok": true,
              "headers": [
                [
                  "content-type",
                  "application/javascript"
                ]
              ],
              "status": 200,
              "status_text": ""
            }
          },
          "base_uri": "https://localhost:8080/",
          "height": 72
        },
        "outputId": "29689ced-19b3-4641-b503-a103048cca36"
      },
      "source": [
        "from google.colab import files\n",
        "uploaded = files.upload()"
      ],
      "execution_count": 24,
      "outputs": [
        {
          "output_type": "display_data",
          "data": {
            "text/html": [
              "\n",
              "     <input type=\"file\" id=\"files-1940ea53-89bf-4a65-a335-bc82f775cb6d\" name=\"files[]\" multiple disabled\n",
              "        style=\"border:none\" />\n",
              "     <output id=\"result-1940ea53-89bf-4a65-a335-bc82f775cb6d\">\n",
              "      Upload widget is only available when the cell has been executed in the\n",
              "      current browser session. Please rerun this cell to enable.\n",
              "      </output>\n",
              "      <script src=\"/nbextensions/google.colab/files.js\"></script> "
            ],
            "text/plain": [
              "<IPython.core.display.HTML object>"
            ]
          },
          "metadata": {
            "tags": []
          }
        },
        {
          "output_type": "stream",
          "text": [
            "Saving train.csv to train.csv\n"
          ],
          "name": "stdout"
        }
      ]
    },
    {
      "cell_type": "code",
      "metadata": {
        "id": "YhtgvmAbvg5U",
        "colab_type": "code",
        "colab": {}
      },
      "source": [
        ""
      ],
      "execution_count": null,
      "outputs": []
    },
    {
      "cell_type": "code",
      "metadata": {
        "id": "w5x9zcOGJ9Mw",
        "colab_type": "code",
        "colab": {}
      },
      "source": [
        "from graphviz import Digraph"
      ],
      "execution_count": null,
      "outputs": []
    },
    {
      "cell_type": "code",
      "metadata": {
        "id": "lNAC7cBTg-wo",
        "colab_type": "code",
        "colab": {}
      },
      "source": [
        "import numpy as np\n",
        "from celluloid import Camera\n",
        "import matplotlib.pyplot as plt"
      ],
      "execution_count": 9,
      "outputs": []
    },
    {
      "cell_type": "markdown",
      "metadata": {
        "id": "zvl8s-g7_2cI",
        "colab_type": "text"
      },
      "source": [
        "Conway's life-step is implemented below:"
      ]
    },
    {
      "cell_type": "code",
      "metadata": {
        "id": "Zd2S60Tyf7bk",
        "colab_type": "code",
        "colab": {}
      },
      "source": [
        "def evolve(lattice):\n",
        "    \"\"\"Conway's Game of life one-time evolution\"\"\"\n",
        "\n",
        "    x = np.shape(lattice)[0]\n",
        "    y = np.shape(lattice)[1]\n",
        "    latticefinal = np.copy(lattice) #without this line we have a maze generator!!!!!\n",
        "    for i in range(0,x):\n",
        "        for j in range(0,y):\n",
        "            sum = 0\n",
        "            for k in [-1,0,1]:\n",
        "                for l in [-1,0,1]:\n",
        "                    if not (k ==0 and l ==0):     \n",
        "                        sum = sum + lattice[(i+k)%x][(j+l)%y]            \n",
        "            if lattice[i][j] == 0:\n",
        "                if sum == 3: \n",
        "                    latticefinal[i][j] = 1 #reproduction \n",
        "            elif lattice[i][j] == 1:\n",
        "                if sum > 3: \n",
        "                    latticefinal[i][j] = 0 #overpopulation\n",
        "                elif sum in [2,3]: \n",
        "                    latticefinal[i][j] = 1 #stasis\n",
        "                elif sum in [0,1]: \n",
        "                    latticefinal[i][j] = 0 #underpopulation\n",
        "    return latticefinal"
      ],
      "execution_count": 11,
      "outputs": []
    },
    {
      "cell_type": "code",
      "metadata": {
        "id": "HzwdhcQRAH_m",
        "colab_type": "code",
        "colab": {}
      },
      "source": [
        "def evolvemap(lattice):\n",
        "    \"\"\"Conway's Game of life tracing the transition states \n",
        "    generated by the present configuration\n",
        "\n",
        "    notice: \n",
        "\n",
        "    1 - stasis\n",
        "    2 - overpopulation\n",
        "    3 - underpopulation\n",
        "    4 - reproduction\n",
        "    0 - nothingness\n",
        "    \n",
        "    \"\"\"\n",
        "    x = np.shape(lattice)[0]\n",
        "    y = np.shape(lattice)[1]\n",
        "    lattice2 = np.copy(lattice) \n",
        "    statemap = np.copy(lattice)\n",
        "    for i in range(0,x):\n",
        "        for j in range(0,y):\n",
        "            sum = 0\n",
        "            for k in [-1,0,1]:\n",
        "                for l in [-1,0,1]:\n",
        "                    if not (k ==0 and l ==0):     \n",
        "                        sum = sum + lattice[(i+k)%x][(j+l)%y]            \n",
        "            if lattice[i][j] == 0:\n",
        "                if sum == 3: \n",
        "                    lattice2[i][j] = 1 #reproduction \n",
        "                    statemap[i][j] = 4\n",
        "            elif lattice[i][j] == 1:\n",
        "                if sum > 3: \n",
        "                    lattice2[i][j] = 0 #overpopulation\n",
        "                    statemap[i][j] = 2\n",
        "                elif sum in [2,3]: \n",
        "                    lattice2[i][j] = 1 #stasis\n",
        "                    statemap[i][j] = 1\n",
        "                elif sum in [0,1]: \n",
        "                    lattice2[i][j] = 0 #underpopulation\n",
        "                    statemap[i][j] = 3\n",
        "    return lattice2, statemap"
      ],
      "execution_count": 12,
      "outputs": []
    },
    {
      "cell_type": "code",
      "metadata": {
        "id": "99gheS_lUWLA",
        "colab_type": "code",
        "colab": {}
      },
      "source": [
        "def generate_lattice(n,p):\n",
        "    lattice = np.zeros([n,n], dtype='int')\n",
        "    for i in range(0,n):\n",
        "        for j in range(0,n):\n",
        "            if np.random.uniform() < p:\n",
        "                lattice[i,j]=1\n",
        "    return lattice\n",
        "\n",
        "def generate_lattice_s(n,m,p):\n",
        "    lattice = np.zeros([n,m], dtype='int')\n",
        "    for i in range(0,n):\n",
        "        for j in range(0,m):\n",
        "            if np.random.uniform() < p:\n",
        "                lattice[i,j]=1\n",
        "    return lattice\n",
        "\n",
        "def generate_lattice_pq(n,p,q):\n",
        "    lattice = np.zeros([n,n], dtype='int')\n",
        "    for i in range(0,n):\n",
        "        for j in range(0,n):\n",
        "            if i > p and i < q and j > p and j < q:\n",
        "                lattice[i,j]=1\n",
        "    return lattice\n",
        "\n",
        "def generate_lattice_pq_s(n,m,p,q):\n",
        "    lattice = np.zeros([n,m], dtype='int')\n",
        "    for i in range(0,n):\n",
        "        for j in range(0,m):\n",
        "            if i > p and i < q and j > p and j < q:\n",
        "                lattice[i,j]=1\n",
        "    return lattice"
      ],
      "execution_count": 13,
      "outputs": []
    },
    {
      "cell_type": "code",
      "metadata": {
        "id": "AGz7s98HgQwy",
        "colab_type": "code",
        "colab": {}
      },
      "source": [
        "#X =  generate_lattice_pq(31,11,15)"
      ],
      "execution_count": null,
      "outputs": []
    },
    {
      "cell_type": "code",
      "metadata": {
        "id": "avJIVEN_HQRM",
        "colab_type": "code",
        "colab": {}
      },
      "source": [
        "X =  generate_lattice_pq_s(25,20,7,15) #kaggle shape\n",
        "X0 =  generate_lattice_s(25,20,0.5) #kaggle shape"
      ],
      "execution_count": 17,
      "outputs": []
    },
    {
      "cell_type": "code",
      "metadata": {
        "id": "F81VbvErb0lA",
        "colab_type": "code",
        "colab": {}
      },
      "source": [
        "t = np.zeros((25,20))\n",
        "for i in range(25):\n",
        "  for j in range(20):\n",
        "    t[i,j] = i+j*20\n"
      ],
      "execution_count": 14,
      "outputs": []
    },
    {
      "cell_type": "code",
      "metadata": {
        "id": "DI3N0WOXcaIv",
        "colab_type": "code",
        "colab": {
          "base_uri": "https://localhost:8080/",
          "height": 282
        },
        "outputId": "19aac34f-7d73-4d20-97c7-76b027399ac3"
      },
      "source": [
        "plt.imshow(t)"
      ],
      "execution_count": 15,
      "outputs": [
        {
          "output_type": "execute_result",
          "data": {
            "text/plain": [
              "<matplotlib.image.AxesImage at 0x7fc00b12a390>"
            ]
          },
          "metadata": {
            "tags": []
          },
          "execution_count": 15
        },
        {
          "output_type": "display_data",
          "data": {
            "image/png": "[encoded data removed]",
            "text/plain": [
              "<Figure size 432x288 with 1 Axes>"
            ]
          },
          "metadata": {
            "tags": [],
            "needs_background": "light"
          }
        }
      ]
    },
    {
      "cell_type": "code",
      "metadata": {
        "id": "BwHBUFC_ds4U",
        "colab_type": "code",
        "colab": {
          "base_uri": "https://localhost:8080/",
          "height": 282
        },
        "outputId": "4241b754-91ab-4fac-ec97-346ef27131fa"
      },
      "source": [
        "plt.imshow(X)"
      ],
      "execution_count": 18,
      "outputs": [
        {
          "output_type": "execute_result",
          "data": {
            "text/plain": [
              "<matplotlib.image.AxesImage at 0x7fc00b124908>"
            ]
          },
          "metadata": {
            "tags": []
          },
          "execution_count": 18
        },
        {
          "output_type": "display_data",
          "data": {
            "image/png": "[encoded data removed]",
            "text/plain": [
              "<Figure size 432x288 with 1 Axes>"
            ]
          },
          "metadata": {
            "tags": [],
            "needs_background": "light"
          }
        }
      ]
    },
    {
      "cell_type": "code",
      "metadata": {
        "id": "qt1T4X0Y5IVD",
        "colab_type": "code",
        "colab": {
          "base_uri": "https://localhost:8080/",
          "height": 282
        },
        "outputId": "608e78ef-d377-4ab2-d2d1-01023b48e8ee"
      },
      "source": [
        "plt.imshow(evolve(X))"
      ],
      "execution_count": 19,
      "outputs": [
        {
          "output_type": "execute_result",
          "data": {
            "text/plain": [
              "<matplotlib.image.AxesImage at 0x7fc00b079a20>"
            ]
          },
          "metadata": {
            "tags": []
          },
          "execution_count": 19
        },
        {
          "output_type": "display_data",
          "data": {
            "image/png": "[encoded data removed]",
            "text/plain": [
              "<Figure size 432x288 with 1 Axes>"
            ]
          },
          "metadata": {
            "tags": [],
            "needs_background": "light"
          }
        }
      ]
    },
    {
      "cell_type": "code",
      "metadata": {
        "id": "B4qx2ZEYP0Hq",
        "colab_type": "code",
        "colab": {}
      },
      "source": [
        "lattice2, statemap = evolvemap(X)"
      ],
      "execution_count": 22,
      "outputs": []
    },
    {
      "cell_type": "code",
      "metadata": {
        "id": "v-UgDPrtSlOB",
        "colab_type": "code",
        "colab": {}
      },
      "source": [
        "lattice2, statemap = evolvemap(X)"
      ],
      "execution_count": null,
      "outputs": []
    },
    {
      "cell_type": "code",
      "metadata": {
        "id": "D3GCxWSTSLpy",
        "colab_type": "code",
        "colab": {
          "base_uri": "https://localhost:8080/",
          "height": 282
        },
        "outputId": "872583c1-d5d3-4486-a648-7032124a7ac2"
      },
      "source": [
        "plt.imshow(statemap)"
      ],
      "execution_count": 23,
      "outputs": [
        {
          "output_type": "execute_result",
          "data": {
            "text/plain": [
              "<matplotlib.image.AxesImage at 0x7fc00afa84a8>"
            ]
          },
          "metadata": {
            "tags": []
          },
          "execution_count": 23
        },
        {
          "output_type": "display_data",
          "data": {
            "image/png": "[encoded data removed]",
            "text/plain": [
              "<Figure size 432x288 with 1 Axes>"
            ]
          },
          "metadata": {
            "tags": [],
            "needs_background": "light"
          }
        }
      ]
    },
    {
      "cell_type": "code",
      "metadata": {
        "id": "fCsEt6POdusQ",
        "colab_type": "code",
        "colab": {
          "base_uri": "https://localhost:8080/",
          "height": 267
        },
        "outputId": "91792bd1-39bb-4b2f-f55e-2f7393cefafc"
      },
      "source": [
        "Y =  generate_lattice(50,0.5)\n",
        "fig = plt.figure()\n",
        "camera = Camera(fig)\n",
        "for i in range(1,100):\n",
        "    plt.imshow( Y, cmap = 'magma')\n",
        "    Y =  evolve(Y)\n",
        "    camera.snap()\n",
        "animation = camera.animate()\n",
        "animation.save('gameoflife3.gif', writer = 'pillow')"
      ],
      "execution_count": null,
      "outputs": [
        {
          "output_type": "display_data",
          "data": {
            "image/png": "[encoded data removed]",
            "text/plain": [
              "<Figure size 432x288 with 1 Axes>"
            ]
          },
          "metadata": {
            "tags": [],
            "needs_background": "light"
          }
        }
      ]
    },
    {
      "cell_type": "code",
      "metadata": {
        "id": "HMzQwLQw6KXC",
        "colab_type": "code",
        "colab": {
          "base_uri": "https://localhost:8080/",
          "height": 17
        },
        "outputId": "962d2b21-75aa-47fa-eb62-81f62f128772"
      },
      "source": [
        "from google.colab import files\n",
        "files.download( \"gameoflife3.gif\" )    "
      ],
      "execution_count": null,
      "outputs": [
        {
          "output_type": "display_data",
          "data": {
            "application/javascript": [
              "\n",
              "    async function download(id, filename, size) {\n",
              "      if (!google.colab.kernel.accessAllowed) {\n",
              "        return;\n",
              "      }\n",
              "      const div = document.createElement('div');\n",
              "      const label = document.createElement('label');\n",
              "      label.textContent = `Downloading \"${filename}\": `;\n",
              "      div.appendChild(label);\n",
              "      const progress = document.createElement('progress');\n",
              "      progress.max = size;\n",
              "      div.appendChild(progress);\n",
              "      document.body.appendChild(div);\n",
              "\n",
              "      const buffers = [];\n",
              "      let downloaded = 0;\n",
              "\n",
              "      const channel = await google.colab.kernel.comms.open(id);\n",
              "      // Send a message to notify the kernel that we're ready.\n",
              "      channel.send({})\n",
              "\n",
              "      for await (const message of channel.messages) {\n",
              "        // Send a message to notify the kernel that we're ready.\n",
              "        channel.send({})\n",
              "        if (message.buffers) {\n",
              "          for (const buffer of message.buffers) {\n",
              "            buffers.push(buffer);\n",
              "            downloaded += buffer.byteLength;\n",
              "            progress.value = downloaded;\n",
              "          }\n",
              "        }\n",
              "      }\n",
              "      const blob = new Blob(buffers, {type: 'application/binary'});\n",
              "      const a = document.createElement('a');\n",
              "      a.href = window.URL.createObjectURL(blob);\n",
              "      a.download = filename;\n",
              "      div.appendChild(a);\n",
              "      a.click();\n",
              "      div.remove();\n",
              "    }\n",
              "  "
            ],
            "text/plain": [
              "<IPython.core.display.Javascript object>"
            ]
          },
          "metadata": {
            "tags": []
          }
        },
        {
          "output_type": "display_data",
          "data": {
            "application/javascript": [
              "download(\"download_d68142ea-defa-4c00-b119-887fa18e21b7\", \"gameoflife3.gif\", 1463806)"
            ],
            "text/plain": [
              "<IPython.core.display.Javascript object>"
            ]
          },
          "metadata": {
            "tags": []
          }
        }
      ]
    },
    {
      "cell_type": "markdown",
      "metadata": {
        "id": "OjoKTVAkDPmS",
        "colab_type": "text"
      },
      "source": [
        "#Viterbi Approach\n"
      ]
    },
    {
      "cell_type": "markdown",
      "metadata": {
        "id": "ewUgiRlgSVky",
        "colab_type": "text"
      },
      "source": [
        "Let's say the hidden states are the origins of a specific state in the lattice, i.e. the transitions that produce an observable present, namely state the four conway rules :\n",
        "\n",
        "* Stasis = $S$\n",
        "* Overpopulation = $O$\n",
        "* Underpopulation = $U$\n",
        "* Reproduction = $R$\n",
        "\n",
        "Notice the transitions associated with each hidden state, and the fifth transition $Z$:\n",
        "\n",
        "* $S :\\, 1 \\rightarrow 1$\n",
        "* $O :\\, 1 \\rightarrow 0$\n",
        "* $U :\\, 1 \\rightarrow 0$ \n",
        "* $R :\\, 0 \\rightarrow 1$\n",
        "* $Z :\\, 0 \\rightarrow 0$\n",
        "\n",
        "\n",
        "Let's define the sets  of $3 \\, \\times \\, 3$ matrixes associated with each hidden state.\n",
        "\n"
      ]
    },
    {
      "cell_type": "code",
      "metadata": {
        "id": "YR55w9__lzzB",
        "colab_type": "code",
        "colab": {}
      },
      "source": [
        "matrices = []\n",
        "for a1 in [0,1]:\n",
        "  for a2 in [0,1]:\n",
        "    for a3 in [0,1]:\n",
        "      for a4 in [0,1]:\n",
        "        for a5 in [0,1]:\n",
        "          for a6 in [0,1]:\n",
        "            for a7 in [0,1]:\n",
        "              for a8 in [0,1]:\n",
        "                for a9 in [0,1]:\n",
        "                  matrices.append(np.array([[a1, a2, a3],[a4, a5, a6],[a7, a8, a9]]))\n",
        "      \n"
      ],
      "execution_count": null,
      "outputs": []
    },
    {
      "cell_type": "code",
      "metadata": {
        "id": "CET6U6-Qnjlo",
        "colab_type": "code",
        "colab": {
          "base_uri": "https://localhost:8080/",
          "height": 34
        },
        "outputId": "53bbed7e-9a6e-465b-e053-282a34c5feec"
      },
      "source": [
        "matrices[230]"
      ],
      "execution_count": null,
      "outputs": [
        {
          "output_type": "execute_result",
          "data": {
            "text/plain": [
              "[[0, 1, 1], [1, 0, 0], [1, 1, 0]]"
            ]
          },
          "metadata": {
            "tags": []
          },
          "execution_count": 22
        }
      ]
    },
    {
      "cell_type": "code",
      "metadata": {
        "id": "0exUM4-zw8sY",
        "colab_type": "code",
        "colab": {}
      },
      "source": [
        "matrixs = {}"
      ],
      "execution_count": null,
      "outputs": []
    },
    {
      "cell_type": "code",
      "metadata": {
        "id": "FyWu_XoEnNv5",
        "colab_type": "code",
        "colab": {
          "base_uri": "https://localhost:8080/",
          "height": 34
        },
        "outputId": "b0d397d6-a1cb-4a75-90e6-95259d41f203"
      },
      "source": [
        "np.sum(matrices[230])"
      ],
      "execution_count": null,
      "outputs": [
        {
          "output_type": "execute_result",
          "data": {
            "text/plain": [
              "5"
            ]
          },
          "metadata": {
            "tags": []
          },
          "execution_count": 16
        }
      ]
    },
    {
      "cell_type": "code",
      "metadata": {
        "id": "fnP4towPlbt8",
        "colab_type": "code",
        "colab": {}
      },
      "source": [
        "matrizS = []\n",
        "matrizO = []\n",
        "matrizU = []\n",
        "matrizR = []\n",
        "matrizZ = []\n",
        "\n",
        "for i in matrices:\n",
        "  if i[1][1] == 1:\n",
        "    if (np.sum(i)-1) in [2,3]:\n",
        "      matrizS.append(i)\n",
        "    if (np.sum(i)-1) in [0,1]:\n",
        "      matrizU.append(i)\n",
        "    if (np.sum(i)-1) > 3:\n",
        "      matrizO.append(i)\n",
        "  if i[1][1] == 0:\n",
        "    if np.sum(i) == 3:\n",
        "      matrizR.append(i)\n",
        "    else: matrizZ.append(i)"
      ],
      "execution_count": null,
      "outputs": []
    },
    {
      "cell_type": "code",
      "metadata": {
        "id": "oQ80WrkXLNU4",
        "colab_type": "code",
        "colab": {
          "base_uri": "https://localhost:8080/",
          "height": 119
        },
        "outputId": "e5c7ffdd-728c-4bc9-bbac-0a13d361b843"
      },
      "source": [
        "print(len(matrices))\n",
        "print(len(matrizS))\n",
        "print(len(matrizO))\n",
        "print(len(matrizU))\n",
        "print(len(matrizR))\n",
        "print(len(matrizZ))\n",
        "\n",
        "matriz = [matrizZ,matrizS,matrizO,matrizU,matrizR]"
      ],
      "execution_count": null,
      "outputs": [
        {
          "output_type": "stream",
          "text": [
            "512\n",
            "84\n",
            "163\n",
            "9\n",
            "56\n",
            "200\n"
          ],
          "name": "stdout"
        }
      ]
    },
    {
      "cell_type": "markdown",
      "metadata": {
        "id": "h33JN-DY_DFu",
        "colab_type": "text"
      },
      "source": [
        "For implementing viterbi we must write the emission matrix and the transition matrix!"
      ]
    },
    {
      "cell_type": "markdown",
      "metadata": {
        "id": "2SNPU6V_UQsM",
        "colab_type": "text"
      },
      "source": [
        "##Transition Matrix "
      ]
    },
    {
      "cell_type": "markdown",
      "metadata": {
        "id": "AGRgi_yCXsam",
        "colab_type": "text"
      },
      "source": [
        "Transition matrix will measure the probability of transitions between hidden states!\n",
        "\n",
        " 1 - stasis - $S$\n",
        "\n",
        " 2 - overpopulation - $O$\n",
        "\n",
        " 3 - underpopulation - $U$\n",
        "\n",
        " 4 - reproduction - $R$\n",
        "\n",
        " 0 - nothingness - $Z$"
      ]
    },
    {
      "cell_type": "markdown",
      "metadata": {
        "id": "64ITTTaiMdQQ",
        "colab_type": "text"
      },
      "source": [
        "First we'll do using the abstract states, then the $3 \\times 3$ matrix configurations associated with each state"
      ]
    },
    {
      "cell_type": "code",
      "metadata": {
        "id": "MgVEQVRGkyA7",
        "colab_type": "code",
        "colab": {}
      },
      "source": [
        "#state dictionary\n",
        "\n",
        "SD = {'S','O', 'U','R','Z' }"
      ],
      "execution_count": null,
      "outputs": []
    },
    {
      "cell_type": "code",
      "metadata": {
        "id": "SeQjXbVrac2D",
        "colab_type": "code",
        "colab": {}
      },
      "source": [
        "#TM = {'S|S':0, 'O|S':0, 'U|S':0, 'R|O':0, 'Z|O':0, 'R|U':0, 'Z|U':0,\n",
        "#      'U|R':0, 'O|R':0, 'S|R':0, 'R|Z':0, 'Z|Z':0 }\n",
        "TM = {'S':{'S':0, 'O':0 , 'U':0}, 'O':{'R':0, 'Z':0},'U':{'R':0, 'Z':0},\n",
        "      'R':{'S':0, 'O':0 , 'U':0}, 'Z':{'R':0,'Z':0}}\n",
        "TMa = {}"
      ],
      "execution_count": null,
      "outputs": []
    },
    {
      "cell_type": "code",
      "metadata": {
        "id": "CriQla1xWGLP",
        "colab_type": "code",
        "colab": {}
      },
      "source": [
        ""
      ],
      "execution_count": null,
      "outputs": []
    },
    {
      "cell_type": "markdown",
      "metadata": {
        "id": "d-zIpg_Y3NwV",
        "colab_type": "text"
      },
      "source": [
        "##Emission Matrix"
      ]
    },
    {
      "cell_type": "markdown",
      "metadata": {
        "id": "SkOWNWk33Ste",
        "colab_type": "text"
      },
      "source": [
        "Emission matrix will carry the probabilities of observing the living (1) or dead state (0) given the 5 hidden states"
      ]
    },
    {
      "cell_type": "code",
      "metadata": {
        "id": "R17CVen65b8W",
        "colab_type": "code",
        "colab": {}
      },
      "source": [
        "EM = {'S': {0:0, 1:1}, 'O':{0:0, 1:1},'U':{0:0, 1:1},\n",
        "      'R':{0:1, 1:0}, 'Z':{0:1, 1:0}}\n",
        "EMa = {}"
      ],
      "execution_count": null,
      "outputs": []
    },
    {
      "cell_type": "code",
      "metadata": {
        "id": "rf1XgDqHVI_4",
        "colab_type": "code",
        "colab": {}
      },
      "source": [
        "Y = np.copy(X0)"
      ],
      "execution_count": null,
      "outputs": []
    },
    {
      "cell_type": "markdown",
      "metadata": {
        "id": "MjZTvB07jBkm",
        "colab_type": "text"
      },
      "source": [
        "temporal transition!"
      ]
    },
    {
      "cell_type": "code",
      "metadata": {
        "id": "XuOdm_7V_Ck8",
        "colab_type": "code",
        "colab": {}
      },
      "source": [
        "Y, statemap0 = evolvemap(Y)\n",
        "x = np.shape(Y)[0]\n",
        "y = np.shape(Y)[1]\n",
        "for i in range(0,1000):\n",
        "  Y, statemap = evolvemap(Y)\n",
        "  for j in range(x):\n",
        "    for l in range(y):\n",
        "      if statemap0[j][l]==1 and statemap[j][l]==1: TM['S']['S'] +=1\n",
        "      if statemap0[j][l]==1 and statemap[j][l]==2: TM['S']['O'] +=1\n",
        "      if statemap0[j][l]==1 and statemap[j][l]==3: TM['S']['U'] +=1\n",
        "      if statemap0[j][l]==2 and statemap[j][l]==4: TM['O']['R'] +=1\n",
        "      if statemap0[j][l]==2 and statemap[j][l]==0: TM['O']['Z'] +=1\n",
        "      if statemap0[j][l]==3 and statemap[j][l]==4: TM['U']['R'] +=1\n",
        "      if statemap0[j][l]==3 and statemap[j][l]==0: TM['U']['Z'] +=1\n",
        "      if statemap0[j][l]==4 and statemap[j][l]==1: TM['R']['S'] +=1\n",
        "      if statemap0[j][l]==4 and statemap[j][l]==2: TM['R']['O'] +=1\n",
        "      if statemap0[j][l]==4 and statemap[j][l]==3: TM['S']['S'] +=1\n",
        "      if statemap0[j][l]==0 and statemap[j][l]==4: TM['Z']['R'] +=1\n",
        "      if statemap0[j][l]==0 and statemap[j][l]==0: TM['Z']['Z'] +=1\n",
        "  statemap0 = np.copy(statemap)\n",
        "  \n"
      ],
      "execution_count": null,
      "outputs": []
    },
    {
      "cell_type": "markdown",
      "metadata": {
        "id": "JMHM5-y9jDyu",
        "colab_type": "text"
      },
      "source": [
        "spacial transition!"
      ]
    },
    {
      "cell_type": "code",
      "metadata": {
        "id": "G0QHmV5bjHIr",
        "colab_type": "code",
        "colab": {}
      },
      "source": [
        "Y, statemap0 = evolvemap(Y)\n",
        "x = np.shape(Y)[0]\n",
        "y = np.shape(Y)[1]\n",
        "for i in listadeY:\n",
        "  for j in range(x):\n",
        "    for l in range(y):\n",
        "      if statemap0[j][l]==1 and statemap[j][l+1]==1: TM['S']['S'] +=1\n",
        "      if statemap0[j][l]==1 and statemap[j][l]==2: TM['S']['O'] +=1\n",
        "      if statemap0[j][l]==1 and statemap[j][l]==3: TM['S']['U'] +=1\n",
        "      if statemap0[j][l]==2 and statemap[j][l]==4: TM['O']['R'] +=1\n",
        "      if statemap0[j][l]==2 and statemap[j][l]==0: TM['O']['Z'] +=1\n",
        "      if statemap0[j][l]==3 and statemap[j][l]==4: TM['U']['R'] +=1\n",
        "      if statemap0[j][l]==3 and statemap[j][l]==0: TM['U']['Z'] +=1\n",
        "      if statemap0[j][l]==4 and statemap[j][l]==1: TM['R']['S'] +=1\n",
        "      if statemap0[j][l]==4 and statemap[j][l]==2: TM['R']['O'] +=1\n",
        "      if statemap0[j][l]==4 and statemap[j][l]==3: TM['S']['S'] +=1\n",
        "      if statemap0[j][l]==0 and statemap[j][l]==4: TM['Z']['R'] +=1\n",
        "      if statemap0[j][l]==0 and statemap[j][l]==0: TM['Z']['Z'] +=1\n",
        "  statemap0 = np.copy(statemap)\n",
        "  "
      ],
      "execution_count": null,
      "outputs": []
    },
    {
      "cell_type": "code",
      "metadata": {
        "id": "LQZq49NMjSUp",
        "colab_type": "code",
        "colab": {}
      },
      "source": [
        "Y = evolve(Y)\n",
        "x = np.shape(Y)[0]\n",
        "y = np.shape(Y)[1]\n",
        "for n in range(0,1000):\n",
        "  Y, statemap0 = evolvemap(Y)\n",
        "  for i in range(x):\n",
        "    for j in range(y):\n",
        "      for k in [0,1,2,3,4]:\n",
        "        for l in matriz[k]:\n",
        "          if np.all(Y[i-1:i+2,j-1:j+2]==l):\n",
        "            TMa = {}\n",
        "\n",
        "      \n",
        "  statemap0 = np.copy(statemap)"
      ],
      "execution_count": null,
      "outputs": []
    },
    {
      "cell_type": "code",
      "metadata": {
        "id": "xAsoWNaYj9zH",
        "colab_type": "code",
        "colab": {
          "base_uri": "https://localhost:8080/",
          "height": 34
        },
        "outputId": "d56111e8-b8fb-4c0f-9cab-da785e12105d"
      },
      "source": [
        "np.all(Y[0:3,1:4] == matrizZ[0])"
      ],
      "execution_count": null,
      "outputs": [
        {
          "output_type": "execute_result",
          "data": {
            "text/plain": [
              "True"
            ]
          },
          "metadata": {
            "tags": []
          },
          "execution_count": 33
        }
      ]
    },
    {
      "cell_type": "code",
      "metadata": {
        "id": "wODv_Uyc2YRl",
        "colab_type": "code",
        "colab": {}
      },
      "source": [
        "S=[0,1,2,3,4]"
      ],
      "execution_count": null,
      "outputs": []
    },
    {
      "cell_type": "markdown",
      "metadata": {
        "id": "YQteHKLEBv-I",
        "colab_type": "text"
      },
      "source": [
        "##Viterbi algorithm\n",
        "\n",
        "implementing Viterbi algorithm\n",
        "\n"
      ]
    },
    {
      "cell_type": "code",
      "metadata": {
        "id": "mvc-ABiwkLwF",
        "colab_type": "code",
        "colab": {}
      },
      "source": [
        "def viterbi(O,S,P,Y,TM,EM):\n",
        "  \"\"\" viterbi algithm\n",
        "  O - > espaço de observação - [0,1] ou 3x3\n",
        "  S - > espaço de estados - [SOURZ] ou 3x3\n",
        "  P - > probabilidade do estado inicial\n",
        "  Y - > sequencia de observacoes\n",
        "  TM - > matriz de transicoes (A)\n",
        "  EM - > matriz de emissoes (B)\n",
        "  \"\"\"\n",
        "  \n",
        "  for s in S:\n",
        "    T1[s,1] = P[s][] * EM[s][y1]\n",
        "    T2[s,1] = 0\n",
        "  \n",
        "  for j in Y: #comeca na segunda observação T é o tamanho de Y\n",
        "    for s in S:\n",
        "      T1[s,j] = max(k) ( T1[k,j-1]* TM[k][i] * EM[s][j])\n",
        "      T2[s,j] = argmax(k) ( T1[k,j-1]* TM[k][i] * EM[s][j])\n",
        "\n",
        "  x[T] = argmax(k) (T1[k,T]) \n",
        " \n",
        "  # agora na ordem inversa\n",
        "\n",
        "  for j in reverse(Y):\n",
        "    x[j-1] = argmax(k) (T2[x[j],j])\n",
        "  \n",
        "  return x"
      ],
      "execution_count": null,
      "outputs": []
    },
    {
      "cell_type": "markdown",
      "metadata": {
        "id": "NdXDsvWRvpUb",
        "colab_type": "text"
      },
      "source": [
        "#visualizing training set"
      ]
    },
    {
      "cell_type": "code",
      "metadata": {
        "id": "KlIPg3noxLxI",
        "colab_type": "code",
        "colab": {}
      },
      "source": [
        "import pandas as pd"
      ],
      "execution_count": 26,
      "outputs": []
    },
    {
      "cell_type": "code",
      "metadata": {
        "id": "Aq25rG08jtTZ",
        "colab_type": "code",
        "colab": {}
      },
      "source": [
        "df = pd.read_csv('train.csv')"
      ],
      "execution_count": 28,
      "outputs": []
    },
    {
      "cell_type": "code",
      "metadata": {
        "id": "9FjUyRZm1011",
        "colab_type": "code",
        "colab": {
          "base_uri": "https://localhost:8080/",
          "height": 34
        },
        "outputId": "6cabfb4d-b811-48a3-a49f-adbbdfa8c2c9"
      },
      "source": [
        "np.shape(df)"
      ],
      "execution_count": 29,
      "outputs": [
        {
          "output_type": "execute_result",
          "data": {
            "text/plain": [
              "(50000, 1252)"
            ]
          },
          "metadata": {
            "tags": []
          },
          "execution_count": 29
        }
      ]
    },
    {
      "cell_type": "code",
      "metadata": {
        "id": "TKaRg6RVxX32",
        "colab_type": "code",
        "colab": {
          "base_uri": "https://localhost:8080/",
          "height": 34
        },
        "outputId": "a0c2fc81-117a-4275-ceaa-e817b53c0316"
      },
      "source": [
        "df['delta'].unique()"
      ],
      "execution_count": 33,
      "outputs": [
        {
          "output_type": "execute_result",
          "data": {
            "text/plain": [
              "array([3, 4, 5, 1, 2])"
            ]
          },
          "metadata": {
            "tags": []
          },
          "execution_count": 33
        }
      ]
    },
    {
      "cell_type": "code",
      "metadata": {
        "id": "A7nh9RcfMG8x",
        "colab_type": "code",
        "colab": {}
      },
      "source": [
        "listastart = ['start_' + str(i) for i in range(0,625)]\n",
        "listastop = ['stop_' + str(i) for i in range(0,625)]"
      ],
      "execution_count": 45,
      "outputs": []
    },
    {
      "cell_type": "code",
      "metadata": {
        "id": "YcerTFsOTBn8",
        "colab_type": "code",
        "colab": {}
      },
      "source": [
        "starts = df[listastart]\n",
        "stops = df[listastop]"
      ],
      "execution_count": 46,
      "outputs": []
    },
    {
      "cell_type": "code",
      "metadata": {
        "id": "ERoCizL5aOmw",
        "colab_type": "code",
        "colab": {
          "base_uri": "https://localhost:8080/",
          "height": 34
        },
        "outputId": "16722efc-f30a-4744-f664-2cc5c705b221"
      },
      "source": [
        "starts['start_0'][0]"
      ],
      "execution_count": 59,
      "outputs": [
        {
          "output_type": "execute_result",
          "data": {
            "text/plain": [
              "0"
            ]
          },
          "metadata": {
            "tags": []
          },
          "execution_count": 59
        }
      ]
    },
    {
      "cell_type": "code",
      "metadata": {
        "id": "HjA-y366TOe5",
        "colab_type": "code",
        "colab": {}
      },
      "source": [
        "startssquare = []\n",
        "for i in range(50000):\n",
        "  x = np.zeros((25,25))\n",
        "  for j in range(25):\n",
        "    for k in range(25):\n",
        "      x[j][k] = starts['start_'+ str(j*25 + k)][i]\n",
        "  startssquare.append(x)\n"
      ],
      "execution_count": 61,
      "outputs": []
    },
    {
      "cell_type": "code",
      "metadata": {
        "id": "msjtZinFgQ1D",
        "colab_type": "code",
        "colab": {}
      },
      "source": [
        "stopssquare = []\n",
        "for i in range(50000):\n",
        "  x = np.zeros((25,25))\n",
        "  for j in range(25):\n",
        "    for k in range(25):\n",
        "      x[j][k] = stops['stop_'+ str(j*25 + k)][i]\n",
        "  stopssquare.append(x)"
      ],
      "execution_count": null,
      "outputs": []
    },
    {
      "cell_type": "code",
      "metadata": {
        "id": "EhjcTRCxgDl9",
        "colab_type": "code",
        "colab": {
          "base_uri": "https://localhost:8080/",
          "height": 282
        },
        "outputId": "624b1581-c2bb-492a-fe77-7d23cd95a7a7"
      },
      "source": [
        "plt.imshow(startssquare[3])"
      ],
      "execution_count": 65,
      "outputs": [
        {
          "output_type": "execute_result",
          "data": {
            "text/plain": [
              "<matplotlib.image.AxesImage at 0x7fc008845550>"
            ]
          },
          "metadata": {
            "tags": []
          },
          "execution_count": 65
        },
        {
          "output_type": "display_data",
          "data": {
            "image/png": "[encoded data removed]",
            "text/plain": [
              "<Figure size 432x288 with 1 Axes>"
            ]
          },
          "metadata": {
            "tags": [],
            "needs_background": "light"
          }
        }
      ]
    },
    {
      "cell_type": "code",
      "metadata": {
        "id": "kyAy9SLGTSZa",
        "colab_type": "code",
        "colab": {
          "base_uri": "https://localhost:8080/",
          "height": 253
        },
        "outputId": "4acd1e3d-a8ef-4060-862a-16683db4a38c"
      },
      "source": [
        "df.head()"
      ],
      "execution_count": 42,
      "outputs": [
        {
          "output_type": "execute_result",
          "data": {
            "text/html": [
              "<div>\n",
              "<style scoped>\n",
              "    .dataframe tbody tr th:only-of-type {\n",
              "        vertical-align: middle;\n",
              "    }\n",
              "\n",
              "    .dataframe tbody tr th {\n",
              "        vertical-align: top;\n",
              "    }\n",
              "\n",
              "    .dataframe thead th {\n",
              "        text-align: right;\n",
              "    }\n",
              "</style>\n",
              "<table border=\"1\" class=\"dataframe\">\n",
              "  <thead>\n",
              "    <tr style=\"text-align: right;\">\n",
              "      <th></th>\n",
              "      <th>id</th>\n",
              "      <th>delta</th>\n",
              "      <th>start_0</th>\n",
              "      <th>start_1</th>\n",
              "      <th>start_2</th>\n",
              "      <th>start_3</th>\n",
              "      <th>start_4</th>\n",
              "      <th>start_5</th>\n",
              "      <th>start_6</th>\n",
              "      <th>start_7</th>\n",
              "      <th>start_8</th>\n",
              "      <th>start_9</th>\n",
              "      <th>start_10</th>\n",
              "      <th>start_11</th>\n",
              "      <th>start_12</th>\n",
              "      <th>start_13</th>\n",
              "      <th>start_14</th>\n",
              "      <th>start_15</th>\n",
              "      <th>start_16</th>\n",
              "      <th>start_17</th>\n",
              "      <th>start_18</th>\n",
              "      <th>start_19</th>\n",
              "      <th>start_20</th>\n",
              "      <th>start_21</th>\n",
              "      <th>start_22</th>\n",
              "      <th>start_23</th>\n",
              "      <th>start_24</th>\n",
              "      <th>start_25</th>\n",
              "      <th>start_26</th>\n",
              "      <th>start_27</th>\n",
              "      <th>start_28</th>\n",
              "      <th>start_29</th>\n",
              "      <th>start_30</th>\n",
              "      <th>start_31</th>\n",
              "      <th>start_32</th>\n",
              "      <th>start_33</th>\n",
              "      <th>start_34</th>\n",
              "      <th>start_35</th>\n",
              "      <th>start_36</th>\n",
              "      <th>start_37</th>\n",
              "      <th>...</th>\n",
              "      <th>stop_585</th>\n",
              "      <th>stop_586</th>\n",
              "      <th>stop_587</th>\n",
              "      <th>stop_588</th>\n",
              "      <th>stop_589</th>\n",
              "      <th>stop_590</th>\n",
              "      <th>stop_591</th>\n",
              "      <th>stop_592</th>\n",
              "      <th>stop_593</th>\n",
              "      <th>stop_594</th>\n",
              "      <th>stop_595</th>\n",
              "      <th>stop_596</th>\n",
              "      <th>stop_597</th>\n",
              "      <th>stop_598</th>\n",
              "      <th>stop_599</th>\n",
              "      <th>stop_600</th>\n",
              "      <th>stop_601</th>\n",
              "      <th>stop_602</th>\n",
              "      <th>stop_603</th>\n",
              "      <th>stop_604</th>\n",
              "      <th>stop_605</th>\n",
              "      <th>stop_606</th>\n",
              "      <th>stop_607</th>\n",
              "      <th>stop_608</th>\n",
              "      <th>stop_609</th>\n",
              "      <th>stop_610</th>\n",
              "      <th>stop_611</th>\n",
              "      <th>stop_612</th>\n",
              "      <th>stop_613</th>\n",
              "      <th>stop_614</th>\n",
              "      <th>stop_615</th>\n",
              "      <th>stop_616</th>\n",
              "      <th>stop_617</th>\n",
              "      <th>stop_618</th>\n",
              "      <th>stop_619</th>\n",
              "      <th>stop_620</th>\n",
              "      <th>stop_621</th>\n",
              "      <th>stop_622</th>\n",
              "      <th>stop_623</th>\n",
              "      <th>stop_624</th>\n",
              "    </tr>\n",
              "  </thead>\n",
              "  <tbody>\n",
              "    <tr>\n",
              "      <th>0</th>\n",
              "      <td>0</td>\n",
              "      <td>3</td>\n",
              "      <td>0</td>\n",
              "      <td>0</td>\n",
              "      <td>0</td>\n",
              "      <td>0</td>\n",
              "      <td>1</td>\n",
              "      <td>0</td>\n",
              "      <td>0</td>\n",
              "      <td>0</td>\n",
              "      <td>0</td>\n",
              "      <td>0</td>\n",
              "      <td>0</td>\n",
              "      <td>0</td>\n",
              "      <td>0</td>\n",
              "      <td>0</td>\n",
              "      <td>0</td>\n",
              "      <td>0</td>\n",
              "      <td>0</td>\n",
              "      <td>0</td>\n",
              "      <td>0</td>\n",
              "      <td>0</td>\n",
              "      <td>0</td>\n",
              "      <td>0</td>\n",
              "      <td>0</td>\n",
              "      <td>0</td>\n",
              "      <td>0</td>\n",
              "      <td>0</td>\n",
              "      <td>0</td>\n",
              "      <td>0</td>\n",
              "      <td>0</td>\n",
              "      <td>0</td>\n",
              "      <td>0</td>\n",
              "      <td>0</td>\n",
              "      <td>0</td>\n",
              "      <td>0</td>\n",
              "      <td>0</td>\n",
              "      <td>0</td>\n",
              "      <td>0</td>\n",
              "      <td>0</td>\n",
              "      <td>...</td>\n",
              "      <td>0</td>\n",
              "      <td>0</td>\n",
              "      <td>0</td>\n",
              "      <td>0</td>\n",
              "      <td>0</td>\n",
              "      <td>0</td>\n",
              "      <td>0</td>\n",
              "      <td>0</td>\n",
              "      <td>0</td>\n",
              "      <td>0</td>\n",
              "      <td>0</td>\n",
              "      <td>0</td>\n",
              "      <td>0</td>\n",
              "      <td>0</td>\n",
              "      <td>0</td>\n",
              "      <td>0</td>\n",
              "      <td>0</td>\n",
              "      <td>0</td>\n",
              "      <td>1</td>\n",
              "      <td>1</td>\n",
              "      <td>0</td>\n",
              "      <td>0</td>\n",
              "      <td>0</td>\n",
              "      <td>0</td>\n",
              "      <td>0</td>\n",
              "      <td>0</td>\n",
              "      <td>0</td>\n",
              "      <td>0</td>\n",
              "      <td>0</td>\n",
              "      <td>0</td>\n",
              "      <td>0</td>\n",
              "      <td>0</td>\n",
              "      <td>0</td>\n",
              "      <td>0</td>\n",
              "      <td>0</td>\n",
              "      <td>0</td>\n",
              "      <td>0</td>\n",
              "      <td>0</td>\n",
              "      <td>0</td>\n",
              "      <td>0</td>\n",
              "    </tr>\n",
              "    <tr>\n",
              "      <th>1</th>\n",
              "      <td>1</td>\n",
              "      <td>4</td>\n",
              "      <td>0</td>\n",
              "      <td>0</td>\n",
              "      <td>0</td>\n",
              "      <td>0</td>\n",
              "      <td>1</td>\n",
              "      <td>0</td>\n",
              "      <td>0</td>\n",
              "      <td>0</td>\n",
              "      <td>0</td>\n",
              "      <td>1</td>\n",
              "      <td>1</td>\n",
              "      <td>0</td>\n",
              "      <td>1</td>\n",
              "      <td>0</td>\n",
              "      <td>1</td>\n",
              "      <td>0</td>\n",
              "      <td>0</td>\n",
              "      <td>1</td>\n",
              "      <td>1</td>\n",
              "      <td>1</td>\n",
              "      <td>0</td>\n",
              "      <td>0</td>\n",
              "      <td>1</td>\n",
              "      <td>1</td>\n",
              "      <td>0</td>\n",
              "      <td>0</td>\n",
              "      <td>0</td>\n",
              "      <td>0</td>\n",
              "      <td>0</td>\n",
              "      <td>0</td>\n",
              "      <td>0</td>\n",
              "      <td>0</td>\n",
              "      <td>0</td>\n",
              "      <td>0</td>\n",
              "      <td>0</td>\n",
              "      <td>1</td>\n",
              "      <td>0</td>\n",
              "      <td>0</td>\n",
              "      <td>...</td>\n",
              "      <td>1</td>\n",
              "      <td>0</td>\n",
              "      <td>0</td>\n",
              "      <td>0</td>\n",
              "      <td>0</td>\n",
              "      <td>0</td>\n",
              "      <td>0</td>\n",
              "      <td>0</td>\n",
              "      <td>0</td>\n",
              "      <td>0</td>\n",
              "      <td>0</td>\n",
              "      <td>0</td>\n",
              "      <td>0</td>\n",
              "      <td>1</td>\n",
              "      <td>1</td>\n",
              "      <td>0</td>\n",
              "      <td>0</td>\n",
              "      <td>0</td>\n",
              "      <td>0</td>\n",
              "      <td>0</td>\n",
              "      <td>0</td>\n",
              "      <td>0</td>\n",
              "      <td>0</td>\n",
              "      <td>1</td>\n",
              "      <td>1</td>\n",
              "      <td>0</td>\n",
              "      <td>0</td>\n",
              "      <td>0</td>\n",
              "      <td>0</td>\n",
              "      <td>0</td>\n",
              "      <td>0</td>\n",
              "      <td>0</td>\n",
              "      <td>0</td>\n",
              "      <td>1</td>\n",
              "      <td>0</td>\n",
              "      <td>0</td>\n",
              "      <td>0</td>\n",
              "      <td>0</td>\n",
              "      <td>0</td>\n",
              "      <td>0</td>\n",
              "    </tr>\n",
              "    <tr>\n",
              "      <th>2</th>\n",
              "      <td>2</td>\n",
              "      <td>3</td>\n",
              "      <td>0</td>\n",
              "      <td>1</td>\n",
              "      <td>0</td>\n",
              "      <td>0</td>\n",
              "      <td>0</td>\n",
              "      <td>0</td>\n",
              "      <td>0</td>\n",
              "      <td>1</td>\n",
              "      <td>0</td>\n",
              "      <td>1</td>\n",
              "      <td>0</td>\n",
              "      <td>0</td>\n",
              "      <td>0</td>\n",
              "      <td>0</td>\n",
              "      <td>0</td>\n",
              "      <td>1</td>\n",
              "      <td>0</td>\n",
              "      <td>0</td>\n",
              "      <td>0</td>\n",
              "      <td>0</td>\n",
              "      <td>0</td>\n",
              "      <td>0</td>\n",
              "      <td>1</td>\n",
              "      <td>1</td>\n",
              "      <td>0</td>\n",
              "      <td>0</td>\n",
              "      <td>1</td>\n",
              "      <td>1</td>\n",
              "      <td>0</td>\n",
              "      <td>0</td>\n",
              "      <td>0</td>\n",
              "      <td>0</td>\n",
              "      <td>1</td>\n",
              "      <td>0</td>\n",
              "      <td>0</td>\n",
              "      <td>0</td>\n",
              "      <td>0</td>\n",
              "      <td>0</td>\n",
              "      <td>...</td>\n",
              "      <td>1</td>\n",
              "      <td>0</td>\n",
              "      <td>0</td>\n",
              "      <td>0</td>\n",
              "      <td>0</td>\n",
              "      <td>0</td>\n",
              "      <td>0</td>\n",
              "      <td>0</td>\n",
              "      <td>1</td>\n",
              "      <td>0</td>\n",
              "      <td>0</td>\n",
              "      <td>0</td>\n",
              "      <td>0</td>\n",
              "      <td>0</td>\n",
              "      <td>1</td>\n",
              "      <td>1</td>\n",
              "      <td>0</td>\n",
              "      <td>0</td>\n",
              "      <td>0</td>\n",
              "      <td>0</td>\n",
              "      <td>0</td>\n",
              "      <td>0</td>\n",
              "      <td>0</td>\n",
              "      <td>1</td>\n",
              "      <td>1</td>\n",
              "      <td>1</td>\n",
              "      <td>0</td>\n",
              "      <td>0</td>\n",
              "      <td>0</td>\n",
              "      <td>1</td>\n",
              "      <td>0</td>\n",
              "      <td>0</td>\n",
              "      <td>0</td>\n",
              "      <td>1</td>\n",
              "      <td>0</td>\n",
              "      <td>0</td>\n",
              "      <td>0</td>\n",
              "      <td>0</td>\n",
              "      <td>0</td>\n",
              "      <td>0</td>\n",
              "    </tr>\n",
              "    <tr>\n",
              "      <th>3</th>\n",
              "      <td>3</td>\n",
              "      <td>5</td>\n",
              "      <td>0</td>\n",
              "      <td>1</td>\n",
              "      <td>1</td>\n",
              "      <td>0</td>\n",
              "      <td>0</td>\n",
              "      <td>0</td>\n",
              "      <td>0</td>\n",
              "      <td>0</td>\n",
              "      <td>0</td>\n",
              "      <td>0</td>\n",
              "      <td>0</td>\n",
              "      <td>0</td>\n",
              "      <td>0</td>\n",
              "      <td>0</td>\n",
              "      <td>1</td>\n",
              "      <td>1</td>\n",
              "      <td>0</td>\n",
              "      <td>0</td>\n",
              "      <td>0</td>\n",
              "      <td>0</td>\n",
              "      <td>0</td>\n",
              "      <td>0</td>\n",
              "      <td>0</td>\n",
              "      <td>1</td>\n",
              "      <td>1</td>\n",
              "      <td>1</td>\n",
              "      <td>0</td>\n",
              "      <td>0</td>\n",
              "      <td>0</td>\n",
              "      <td>0</td>\n",
              "      <td>0</td>\n",
              "      <td>0</td>\n",
              "      <td>0</td>\n",
              "      <td>0</td>\n",
              "      <td>0</td>\n",
              "      <td>0</td>\n",
              "      <td>0</td>\n",
              "      <td>0</td>\n",
              "      <td>...</td>\n",
              "      <td>0</td>\n",
              "      <td>0</td>\n",
              "      <td>0</td>\n",
              "      <td>0</td>\n",
              "      <td>0</td>\n",
              "      <td>0</td>\n",
              "      <td>0</td>\n",
              "      <td>0</td>\n",
              "      <td>0</td>\n",
              "      <td>0</td>\n",
              "      <td>0</td>\n",
              "      <td>0</td>\n",
              "      <td>0</td>\n",
              "      <td>0</td>\n",
              "      <td>1</td>\n",
              "      <td>0</td>\n",
              "      <td>1</td>\n",
              "      <td>0</td>\n",
              "      <td>0</td>\n",
              "      <td>0</td>\n",
              "      <td>0</td>\n",
              "      <td>0</td>\n",
              "      <td>1</td>\n",
              "      <td>0</td>\n",
              "      <td>0</td>\n",
              "      <td>0</td>\n",
              "      <td>0</td>\n",
              "      <td>0</td>\n",
              "      <td>0</td>\n",
              "      <td>0</td>\n",
              "      <td>0</td>\n",
              "      <td>0</td>\n",
              "      <td>0</td>\n",
              "      <td>0</td>\n",
              "      <td>0</td>\n",
              "      <td>0</td>\n",
              "      <td>0</td>\n",
              "      <td>0</td>\n",
              "      <td>1</td>\n",
              "      <td>0</td>\n",
              "    </tr>\n",
              "    <tr>\n",
              "      <th>4</th>\n",
              "      <td>4</td>\n",
              "      <td>1</td>\n",
              "      <td>0</td>\n",
              "      <td>0</td>\n",
              "      <td>0</td>\n",
              "      <td>1</td>\n",
              "      <td>1</td>\n",
              "      <td>0</td>\n",
              "      <td>0</td>\n",
              "      <td>0</td>\n",
              "      <td>0</td>\n",
              "      <td>0</td>\n",
              "      <td>0</td>\n",
              "      <td>0</td>\n",
              "      <td>0</td>\n",
              "      <td>0</td>\n",
              "      <td>0</td>\n",
              "      <td>0</td>\n",
              "      <td>0</td>\n",
              "      <td>0</td>\n",
              "      <td>1</td>\n",
              "      <td>0</td>\n",
              "      <td>0</td>\n",
              "      <td>0</td>\n",
              "      <td>0</td>\n",
              "      <td>0</td>\n",
              "      <td>1</td>\n",
              "      <td>0</td>\n",
              "      <td>0</td>\n",
              "      <td>0</td>\n",
              "      <td>0</td>\n",
              "      <td>0</td>\n",
              "      <td>0</td>\n",
              "      <td>0</td>\n",
              "      <td>0</td>\n",
              "      <td>0</td>\n",
              "      <td>0</td>\n",
              "      <td>0</td>\n",
              "      <td>0</td>\n",
              "      <td>0</td>\n",
              "      <td>...</td>\n",
              "      <td>0</td>\n",
              "      <td>0</td>\n",
              "      <td>0</td>\n",
              "      <td>0</td>\n",
              "      <td>1</td>\n",
              "      <td>0</td>\n",
              "      <td>0</td>\n",
              "      <td>0</td>\n",
              "      <td>0</td>\n",
              "      <td>1</td>\n",
              "      <td>0</td>\n",
              "      <td>0</td>\n",
              "      <td>0</td>\n",
              "      <td>0</td>\n",
              "      <td>0</td>\n",
              "      <td>0</td>\n",
              "      <td>0</td>\n",
              "      <td>1</td>\n",
              "      <td>0</td>\n",
              "      <td>0</td>\n",
              "      <td>1</td>\n",
              "      <td>0</td>\n",
              "      <td>0</td>\n",
              "      <td>0</td>\n",
              "      <td>0</td>\n",
              "      <td>0</td>\n",
              "      <td>0</td>\n",
              "      <td>0</td>\n",
              "      <td>0</td>\n",
              "      <td>1</td>\n",
              "      <td>0</td>\n",
              "      <td>0</td>\n",
              "      <td>0</td>\n",
              "      <td>0</td>\n",
              "      <td>1</td>\n",
              "      <td>0</td>\n",
              "      <td>0</td>\n",
              "      <td>0</td>\n",
              "      <td>0</td>\n",
              "      <td>0</td>\n",
              "    </tr>\n",
              "  </tbody>\n",
              "</table>\n",
              "<p>5 rows × 1252 columns</p>\n",
              "</div>"
            ],
            "text/plain": [
              "   id  delta  start_0  start_1  ...  stop_621  stop_622  stop_623  stop_624\n",
              "0   0      3        0        0  ...         0         0         0         0\n",
              "1   1      4        0        0  ...         0         0         0         0\n",
              "2   2      3        0        1  ...         0         0         0         0\n",
              "3   3      5        0        1  ...         0         0         1         0\n",
              "4   4      1        0        0  ...         0         0         0         0\n",
              "\n",
              "[5 rows x 1252 columns]"
            ]
          },
          "metadata": {
            "tags": []
          },
          "execution_count": 42
        }
      ]
    },
    {
      "cell_type": "code",
      "metadata": {
        "id": "LXPx6exA4ZR5",
        "colab_type": "code",
        "colab": {
          "base_uri": "https://localhost:8080/",
          "height": 248
        },
        "outputId": "8dc916db-2fbc-45d0-ab78-debd9155187a"
      },
      "source": [
        "import networkx as nx\n",
        "\n",
        "G = nx.DiGraph()\n",
        "G.add_node('S')\n",
        "G.add_node('O')\n",
        "G.add_node('U')\n",
        "G.add_node('R')\n",
        "G.add_node('Z')\n",
        "G.add_edge('S','S')\n",
        "G.add_edge('S','O')\n",
        "G.add_edge('S','U')\n",
        "G.add_edge('O','R')\n",
        "G.add_edge('O','Z')\n",
        "G.add_edge('U','R')\n",
        "G.add_edge('U','Z')\n",
        "G.add_edge('R','S')\n",
        "G.add_edge('R','O')\n",
        "G.add_edge('R','U')\n",
        "G.add_edge('Z','R')\n",
        "G.add_edge('Z','Z')\n",
        "#G.add_edges_from()\n",
        "nx.draw_networkx(G, pos=nx.circular_layout(G) ,arrowsize=20)"
      ],
      "execution_count": null,
      "outputs": [
        {
          "output_type": "display_data",
          "data": {
            "image/png": "[encoded data removed]",
            "text/plain": [
              "<Figure size 432x288 with 1 Axes>"
            ]
          },
          "metadata": {
            "tags": []
          }
        }
      ]
    },
    {
      "cell_type": "code",
      "metadata": {
        "id": "3uE-5-uAJ2Rp",
        "colab_type": "code",
        "colab": {}
      },
      "source": [
        "from networkx.drawing.nx_agraph import write_dot"
      ],
      "execution_count": null,
      "outputs": []
    },
    {
      "cell_type": "code",
      "metadata": {
        "id": "KrqOD1-5gWMN",
        "colab_type": "code",
        "colab": {
          "base_uri": "https://localhost:8080/",
          "height": 464
        },
        "outputId": "c5242ade-d6de-4c52-a2be-87d9fac26145"
      },
      "source": [
        "import networkx as nx\n",
        "import matplotlib.pyplot as plt\n",
        "\n",
        "G = Digraph('G')\n",
        "G.edge('S','S')\n",
        "G.edge('S','O')\n",
        "G.edge('S','U')\n",
        "G.edge('O','R')\n",
        "G.edge('O','Z')\n",
        "G.edge('U','R')\n",
        "G.edge('U','Z')\n",
        "G.edge('R','S')\n",
        "G.edge('R','O')\n",
        "G.edge('R','U')\n",
        "G.edge('Z','R')\n",
        "G.edge('Z','Z')\n",
        "G"
      ],
      "execution_count": null,
      "outputs": [
        {
          "output_type": "execute_result",
          "data": {
            "text/plain": [
              "<graphviz.dot.Digraph at 0x7f41f193f9e8>"
            ],
            "image/svg+xml": "<?xml version=\"1.0\" encoding=\"UTF-8\" standalone=\"no\"?>\n<!DOCTYPE svg PUBLIC \"-//W3C//DTD SVG 1.1//EN\"\n \"http://www.w3.org/Graphics/SVG/1.1/DTD/svg11.dtd\">\n<!-- Generated by graphviz version 2.40.1 (20161225.0304)\n -->\n<!-- Title: G Pages: 1 -->\n<svg width=\"130pt\" height=\"332pt\"\n viewBox=\"0.00 0.00 130.28 332.00\" xmlns=\"http://www.w3.org/2000/svg\" xmlns:xlink=\"http://www.w3.org/1999/xlink\">\n<g id=\"graph0\" class=\"graph\" transform=\"scale(1 1) rotate(0) translate(4 328)\">\n<title>G</title>\n<polygon fill=\"#ffffff\" stroke=\"transparent\" points=\"-4,4 -4,-328 126.28,-328 126.28,4 -4,4\"/>\n<!-- S -->\n<g id=\"node1\" class=\"node\">\n<title>S</title>\n<ellipse fill=\"none\" stroke=\"#000000\" cx=\"39.28\" cy=\"-306\" rx=\"27\" ry=\"18\"/>\n<text text-anchor=\"middle\" x=\"39.28\" y=\"-302.3\" font-family=\"Times,serif\" font-size=\"14.00\" fill=\"#000000\">S</text>\n</g>\n<!-- S&#45;&gt;S -->\n<g id=\"edge1\" class=\"edge\">\n<title>S&#45;&gt;S</title>\n<path fill=\"none\" stroke=\"#000000\" d=\"M59.175,-318.4321C71.968,-321.6753 84.28,-317.5313 84.28,-306 84.28,-297.6218 77.7806,-293.1433 69.3195,-292.5644\"/>\n<polygon fill=\"#000000\" stroke=\"#000000\" points=\"68.7819,-289.1004 59.175,-293.5679 69.471,-296.0665 68.7819,-289.1004\"/>\n</g>\n<!-- O -->\n<g id=\"node2\" class=\"node\">\n<title>O</title>\n<ellipse fill=\"none\" stroke=\"#000000\" cx=\"39.28\" cy=\"-234\" rx=\"27\" ry=\"18\"/>\n<text text-anchor=\"middle\" x=\"39.28\" y=\"-230.3\" font-family=\"Times,serif\" font-size=\"14.00\" fill=\"#000000\">O</text>\n</g>\n<!-- S&#45;&gt;O -->\n<g id=\"edge2\" class=\"edge\">\n<title>S&#45;&gt;O</title>\n<path fill=\"none\" stroke=\"#000000\" d=\"M39.28,-287.8314C39.28,-280.131 39.28,-270.9743 39.28,-262.4166\"/>\n<polygon fill=\"#000000\" stroke=\"#000000\" points=\"42.7801,-262.4132 39.28,-252.4133 35.7801,-262.4133 42.7801,-262.4132\"/>\n</g>\n<!-- U -->\n<g id=\"node3\" class=\"node\">\n<title>U</title>\n<ellipse fill=\"none\" stroke=\"#000000\" cx=\"77.28\" cy=\"-90\" rx=\"27\" ry=\"18\"/>\n<text text-anchor=\"middle\" x=\"77.28\" y=\"-86.3\" font-family=\"Times,serif\" font-size=\"14.00\" fill=\"#000000\">U</text>\n</g>\n<!-- S&#45;&gt;U -->\n<g id=\"edge3\" class=\"edge\">\n<title>S&#45;&gt;U</title>\n<path fill=\"none\" stroke=\"#000000\" d=\"M25.1571,-290.2844C17.0265,-280.1468 7.5899,-266.2347 3.28,-252 -1.3565,-236.6865 -.5669,-231.5307 3.28,-216 12.9495,-176.9625 39.0211,-137.9547 57.4722,-113.9101\"/>\n<polygon fill=\"#000000\" stroke=\"#000000\" points=\"60.4531,-115.7814 63.8807,-105.7563 54.9495,-111.4558 60.4531,-115.7814\"/>\n</g>\n<!-- R -->\n<g id=\"node4\" class=\"node\">\n<title>R</title>\n<ellipse fill=\"none\" stroke=\"#000000\" cx=\"77.28\" cy=\"-162\" rx=\"27\" ry=\"18\"/>\n<text text-anchor=\"middle\" x=\"77.28\" y=\"-158.3\" font-family=\"Times,serif\" font-size=\"14.00\" fill=\"#000000\">R</text>\n</g>\n<!-- O&#45;&gt;R -->\n<g id=\"edge4\" class=\"edge\">\n<title>O&#45;&gt;R</title>\n<path fill=\"none\" stroke=\"#000000\" d=\"M42.9166,-215.8314C46.7748,-206.8656 52.3928,-195.9257 58.0585,-186.2555\"/>\n<polygon fill=\"#000000\" stroke=\"#000000\" points=\"61.1977,-187.8318 63.4493,-177.479 55.233,-184.1681 61.1977,-187.8318\"/>\n</g>\n<!-- Z -->\n<g id=\"node5\" class=\"node\">\n<title>Z</title>\n<ellipse fill=\"none\" stroke=\"#000000\" cx=\"77.28\" cy=\"-18\" rx=\"27\" ry=\"18\"/>\n<text text-anchor=\"middle\" x=\"77.28\" y=\"-14.3\" font-family=\"Times,serif\" font-size=\"14.00\" fill=\"#000000\">Z</text>\n</g>\n<!-- O&#45;&gt;Z -->\n<g id=\"edge5\" class=\"edge\">\n<title>O&#45;&gt;Z</title>\n<path fill=\"none\" stroke=\"#000000\" d=\"M36.248,-215.9883C31.8291,-185.5264 25.7276,-122.2459 41.28,-72 44.6126,-61.2331 50.8374,-50.6356 57.1854,-41.719\"/>\n<polygon fill=\"#000000\" stroke=\"#000000\" points=\"59.9824,-43.8229 63.2188,-33.7345 54.3976,-39.6027 59.9824,-43.8229\"/>\n</g>\n<!-- U&#45;&gt;R -->\n<g id=\"edge6\" class=\"edge\">\n<title>U&#45;&gt;R</title>\n<path fill=\"none\" stroke=\"#000000\" d=\"M83.175,-107.593C83.9894,-115.5865 84.222,-125.2363 83.8728,-134.1759\"/>\n<polygon fill=\"#000000\" stroke=\"#000000\" points=\"80.3776,-133.9891 83.1957,-144.2022 87.3617,-134.4608 80.3776,-133.9891\"/>\n</g>\n<!-- U&#45;&gt;Z -->\n<g id=\"edge7\" class=\"edge\">\n<title>U&#45;&gt;Z</title>\n<path fill=\"none\" stroke=\"#000000\" d=\"M77.28,-71.8314C77.28,-64.131 77.28,-54.9743 77.28,-46.4166\"/>\n<polygon fill=\"#000000\" stroke=\"#000000\" points=\"80.7801,-46.4132 77.28,-36.4133 73.7801,-46.4133 80.7801,-46.4132\"/>\n</g>\n<!-- R&#45;&gt;S -->\n<g id=\"edge8\" class=\"edge\">\n<title>R&#45;&gt;S</title>\n<path fill=\"none\" stroke=\"#000000\" d=\"M79.7809,-180.0679C81.6811,-198.5902 82.8388,-227.9997 75.28,-252 71.8942,-262.7503 65.6578,-273.3442 59.3155,-282.2625\"/>\n<polygon fill=\"#000000\" stroke=\"#000000\" points=\"56.5185,-280.1586 53.2918,-290.2501 62.1074,-284.3733 56.5185,-280.1586\"/>\n</g>\n<!-- R&#45;&gt;O -->\n<g id=\"edge9\" class=\"edge\">\n<title>R&#45;&gt;O</title>\n<path fill=\"none\" stroke=\"#000000\" d=\"M73.7697,-179.8744C69.8953,-188.925 64.1907,-200.0436 58.4431,-209.8442\"/>\n<polygon fill=\"#000000\" stroke=\"#000000\" points=\"55.4537,-208.0239 53.2039,-218.3771 61.419,-211.6866 55.4537,-208.0239\"/>\n</g>\n<!-- R&#45;&gt;U -->\n<g id=\"edge10\" class=\"edge\">\n<title>R&#45;&gt;U</title>\n<path fill=\"none\" stroke=\"#000000\" d=\"M71.3643,-144.2022C70.5598,-136.1807 70.3372,-126.5231 70.6962,-117.5957\"/>\n<polygon fill=\"#000000\" stroke=\"#000000\" points=\"74.1897,-117.8099 71.385,-107.593 67.2062,-117.3289 74.1897,-117.8099\"/>\n</g>\n<!-- Z&#45;&gt;R -->\n<g id=\"edge11\" class=\"edge\">\n<title>Z&#45;&gt;R</title>\n<path fill=\"none\" stroke=\"#000000\" d=\"M91.403,-33.7156C99.5335,-43.8532 108.9701,-57.7653 113.28,-72 117.9165,-87.3135 117.9165,-92.6865 113.28,-108 110.0139,-118.7873 103.8036,-129.3892 97.4487,-138.3037\"/>\n<polygon fill=\"#000000\" stroke=\"#000000\" points=\"94.6515,-136.1999 91.403,-146.2844 100.2313,-140.4268 94.6515,-136.1999\"/>\n</g>\n<!-- Z&#45;&gt;Z -->\n<g id=\"edge12\" class=\"edge\">\n<title>Z&#45;&gt;Z</title>\n<path fill=\"none\" stroke=\"#000000\" d=\"M97.175,-30.4321C109.968,-33.6753 122.28,-29.5313 122.28,-18 122.28,-9.6218 115.7806,-5.1433 107.3195,-4.5644\"/>\n<polygon fill=\"#000000\" stroke=\"#000000\" points=\"106.7819,-1.1004 97.175,-5.5679 107.471,-8.0665 106.7819,-1.1004\"/>\n</g>\n</g>\n</svg>\n"
          },
          "metadata": {
            "tags": []
          },
          "execution_count": 70
        }
      ]
    },
    {
      "cell_type": "code",
      "metadata": {
        "id": "XKOC0GoX6PoA",
        "colab_type": "code",
        "colab": {}
      },
      "source": [
        ""
      ],
      "execution_count": null,
      "outputs": []
    },
    {
      "cell_type": "code",
      "metadata": {
        "id": "qy38rKMxWCCx",
        "colab_type": "code",
        "colab": {}
      },
      "source": [
        "center = {}\n",
        "neighbours = {}\n",
        "\n",
        "\n",
        "center['S'] = 1\n",
        "neighbours['S'] = [[1,1,0,0,0,0,0,0],\n",
        "                  [1,1,1,0,0,0,0,0]]\n",
        "\n",
        "center['O'] = 1\n",
        "neighbours['O'] = [[1,1,1,1,0,0,0,0]\n",
        "              ,[1,1,1,1,1,0,0,0]\n",
        "              ,[1,1,1,1,1,1,0,0]\n",
        "              ,[1,1,1,1,1,1,1,0]\n",
        "              ,[1,1,1,1,1,1,1,1]]\n",
        "\n",
        "center['U'] = 1\n",
        "neighbours['U'] = [[0,0,0,0,0,0,0,0]\n",
        "              ,[1,0,0,0,0,0,0,0]]\n",
        "\n",
        "center['R'] = 0\n",
        "neighbours['R'] = [[1,1,1,0,0,0,0,0]]\n",
        "\n"
      ],
      "execution_count": null,
      "outputs": []
    }
  ]
}